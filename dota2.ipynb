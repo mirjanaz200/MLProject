{
 "cells": [
  {
   "cell_type": "code",
   "execution_count": 1,
   "metadata": {
    "scrolled": true
   },
   "outputs": [],
   "source": [
    "import pandas as pd\n",
    "import numpy as np\n",
    "import seaborn as sns\n",
    "import matplotlib.pyplot as plt\n",
    "from scipy import stats\n",
    "import math\n",
    "from sklearn import preprocessing\n",
    "from sklearn.utils import resample\n",
    "from sklearn.linear_model import LogisticRegression\n",
    "from sklearn.metrics import accuracy_score\n",
    "from sklearn.feature_selection import VarianceThreshold\n",
    "from sklearn.feature_selection import SelectKBest\n",
    "from sklearn.feature_selection import chi2\n",
    "from sklearn.metrics import classification_report\n",
    "from sklearn.metrics import confusion_matrix"
   ]
  },
  {
   "cell_type": "markdown",
   "metadata": {},
   "source": [
    "## Učitavanje podataka i imenovanje kolona\n",
    "U datasetu ne postoje labele za kolone, pa je potrebno ručno uneti. Pored kolona za pobedu, region, mod i tip igre, postoji još 113 kolona, koje predstavljaju po jednog dota2 heroja, i one su numerisane 0-112."
   ]
  },
  {
   "cell_type": "code",
   "execution_count": 2,
   "metadata": {},
   "outputs": [],
   "source": [
    "col_names = ['win', 'region', 'mode', 'type']\n",
    "num_arr_str = np.arange(113).astype(str)\n",
    "all_names = np.concatenate((col_names, num_arr_str), axis = 0)\n",
    "\n",
    "dota_data = pd.read_csv(\"dota2.csv\", header=None, names=all_names)"
   ]
  },
  {
   "cell_type": "code",
   "execution_count": 3,
   "metadata": {},
   "outputs": [
    {
     "data": {
      "text/html": [
       "<div>\n",
       "<style scoped>\n",
       "    .dataframe tbody tr th:only-of-type {\n",
       "        vertical-align: middle;\n",
       "    }\n",
       "\n",
       "    .dataframe tbody tr th {\n",
       "        vertical-align: top;\n",
       "    }\n",
       "\n",
       "    .dataframe thead th {\n",
       "        text-align: right;\n",
       "    }\n",
       "</style>\n",
       "<table border=\"1\" class=\"dataframe\">\n",
       "  <thead>\n",
       "    <tr style=\"text-align: right;\">\n",
       "      <th></th>\n",
       "      <th>win</th>\n",
       "      <th>region</th>\n",
       "      <th>mode</th>\n",
       "      <th>type</th>\n",
       "      <th>0</th>\n",
       "      <th>1</th>\n",
       "      <th>2</th>\n",
       "      <th>3</th>\n",
       "      <th>4</th>\n",
       "      <th>5</th>\n",
       "      <th>...</th>\n",
       "      <th>103</th>\n",
       "      <th>104</th>\n",
       "      <th>105</th>\n",
       "      <th>106</th>\n",
       "      <th>107</th>\n",
       "      <th>108</th>\n",
       "      <th>109</th>\n",
       "      <th>110</th>\n",
       "      <th>111</th>\n",
       "      <th>112</th>\n",
       "    </tr>\n",
       "  </thead>\n",
       "  <tbody>\n",
       "    <tr>\n",
       "      <th>0</th>\n",
       "      <td>-1</td>\n",
       "      <td>223</td>\n",
       "      <td>8</td>\n",
       "      <td>2</td>\n",
       "      <td>0</td>\n",
       "      <td>-1</td>\n",
       "      <td>0</td>\n",
       "      <td>0</td>\n",
       "      <td>0</td>\n",
       "      <td>0</td>\n",
       "      <td>...</td>\n",
       "      <td>-1</td>\n",
       "      <td>0</td>\n",
       "      <td>0</td>\n",
       "      <td>0</td>\n",
       "      <td>0</td>\n",
       "      <td>0</td>\n",
       "      <td>0</td>\n",
       "      <td>0</td>\n",
       "      <td>0</td>\n",
       "      <td>0</td>\n",
       "    </tr>\n",
       "    <tr>\n",
       "      <th>1</th>\n",
       "      <td>1</td>\n",
       "      <td>227</td>\n",
       "      <td>8</td>\n",
       "      <td>2</td>\n",
       "      <td>0</td>\n",
       "      <td>0</td>\n",
       "      <td>0</td>\n",
       "      <td>0</td>\n",
       "      <td>0</td>\n",
       "      <td>0</td>\n",
       "      <td>...</td>\n",
       "      <td>-1</td>\n",
       "      <td>0</td>\n",
       "      <td>0</td>\n",
       "      <td>0</td>\n",
       "      <td>0</td>\n",
       "      <td>0</td>\n",
       "      <td>0</td>\n",
       "      <td>0</td>\n",
       "      <td>0</td>\n",
       "      <td>0</td>\n",
       "    </tr>\n",
       "    <tr>\n",
       "      <th>2</th>\n",
       "      <td>-1</td>\n",
       "      <td>136</td>\n",
       "      <td>2</td>\n",
       "      <td>2</td>\n",
       "      <td>1</td>\n",
       "      <td>0</td>\n",
       "      <td>0</td>\n",
       "      <td>0</td>\n",
       "      <td>-1</td>\n",
       "      <td>0</td>\n",
       "      <td>...</td>\n",
       "      <td>0</td>\n",
       "      <td>0</td>\n",
       "      <td>0</td>\n",
       "      <td>0</td>\n",
       "      <td>0</td>\n",
       "      <td>0</td>\n",
       "      <td>0</td>\n",
       "      <td>0</td>\n",
       "      <td>0</td>\n",
       "      <td>0</td>\n",
       "    </tr>\n",
       "    <tr>\n",
       "      <th>3</th>\n",
       "      <td>1</td>\n",
       "      <td>227</td>\n",
       "      <td>2</td>\n",
       "      <td>2</td>\n",
       "      <td>-1</td>\n",
       "      <td>0</td>\n",
       "      <td>0</td>\n",
       "      <td>0</td>\n",
       "      <td>0</td>\n",
       "      <td>0</td>\n",
       "      <td>...</td>\n",
       "      <td>0</td>\n",
       "      <td>0</td>\n",
       "      <td>0</td>\n",
       "      <td>0</td>\n",
       "      <td>0</td>\n",
       "      <td>0</td>\n",
       "      <td>0</td>\n",
       "      <td>0</td>\n",
       "      <td>0</td>\n",
       "      <td>0</td>\n",
       "    </tr>\n",
       "    <tr>\n",
       "      <th>4</th>\n",
       "      <td>1</td>\n",
       "      <td>184</td>\n",
       "      <td>2</td>\n",
       "      <td>3</td>\n",
       "      <td>0</td>\n",
       "      <td>0</td>\n",
       "      <td>0</td>\n",
       "      <td>-1</td>\n",
       "      <td>0</td>\n",
       "      <td>0</td>\n",
       "      <td>...</td>\n",
       "      <td>0</td>\n",
       "      <td>0</td>\n",
       "      <td>0</td>\n",
       "      <td>0</td>\n",
       "      <td>0</td>\n",
       "      <td>0</td>\n",
       "      <td>0</td>\n",
       "      <td>0</td>\n",
       "      <td>0</td>\n",
       "      <td>0</td>\n",
       "    </tr>\n",
       "  </tbody>\n",
       "</table>\n",
       "<p>5 rows × 117 columns</p>\n",
       "</div>"
      ],
      "text/plain": [
       "   win  region  mode  type  0  1  2  3  4  5  ...  103  104  105  106  107  \\\n",
       "0   -1     223     8     2  0 -1  0  0  0  0  ...   -1    0    0    0    0   \n",
       "1    1     227     8     2  0  0  0  0  0  0  ...   -1    0    0    0    0   \n",
       "2   -1     136     2     2  1  0  0  0 -1  0  ...    0    0    0    0    0   \n",
       "3    1     227     2     2 -1  0  0  0  0  0  ...    0    0    0    0    0   \n",
       "4    1     184     2     3  0  0  0 -1  0  0  ...    0    0    0    0    0   \n",
       "\n",
       "   108  109  110  111  112  \n",
       "0    0    0    0    0    0  \n",
       "1    0    0    0    0    0  \n",
       "2    0    0    0    0    0  \n",
       "3    0    0    0    0    0  \n",
       "4    0    0    0    0    0  \n",
       "\n",
       "[5 rows x 117 columns]"
      ]
     },
     "execution_count": 3,
     "metadata": {},
     "output_type": "execute_result"
    }
   ],
   "source": [
    "dota_data.head(5)"
   ]
  },
  {
   "cell_type": "markdown",
   "metadata": {},
   "source": [
    "## Predstavljanje podataka pomoću grafikona"
   ]
  },
  {
   "cell_type": "markdown",
   "metadata": {},
   "source": [
    "Naredni grafikon pokazuje zastupljenost regiona u mečevima"
   ]
  },
  {
   "cell_type": "code",
   "execution_count": 4,
   "metadata": {},
   "outputs": [
    {
     "name": "stdout",
     "output_type": "stream",
     "text": [
      "{227: 8781, 154: 7751, 156: 7668, 151: 7612, 153: 7513, 152: 7460, 155: 7325, 224: 6625, 231: 4040, 223: 3892, 225: 2947, 232: 1880, 204: 1646, 182: 1519, 187: 1408, 145: 1374, 144: 1348, 188: 1335, 181: 1315, 171: 1224, 186: 1204, 184: 1096, 185: 1080, 183: 1045, 191: 1038, 111: 918, 192: 913, 112: 901, 132: 845, 133: 843, 131: 820, 121: 788, 138: 775, 123: 748, 134: 737, 122: 736, 124: 723, 136: 688, 135: 688, 137: 687, 261: 300, 161: 271, 251: 168, 241: 142, 213: 97, 211: 19, 212: 11}\n"
     ]
    },
    {
     "data": {
      "image/png": "[encoded data removed]",
      "text/plain": [
       "<Figure size 432x288 with 1 Axes>"
      ]
     },
     "metadata": {
      "needs_background": "light"
     },
     "output_type": "display_data"
    }
   ],
   "source": [
    "regi = dota_data.iloc[:,1]\n",
    "abc = dict(regi.value_counts())\n",
    "\n",
    "x = np.fromiter(abc.keys(), dtype=int)\n",
    "y = np.fromiter(abc.values(), dtype=int)\n",
    "\n",
    "fig, ax = plt.subplots()\n",
    "\n",
    "ax.bar(x, y, align='center', color='b')\n",
    "\n",
    "ax.set_title('Zastupljenost regiona')\n",
    "ax.set_ylabel('Broj pojavljivanja')\n",
    "ax.set_xlabel('ID regiona')\n",
    "print(abc)\n",
    "\n",
    "plt.show()"
   ]
  },
  {
   "cell_type": "markdown",
   "metadata": {},
   "source": [
    "Naredni grafikon pokazuje zastupljenost tipa igre u mečevima"
   ]
  },
  {
   "cell_type": "code",
   "execution_count": 5,
   "metadata": {},
   "outputs": [
    {
     "name": "stdout",
     "output_type": "stream",
     "text": [
      "1: Practice 2: Tournament 3: Tutorial\n",
      "{2: 63272, 3: 39652, 1: 20}\n"
     ]
    },
    {
     "data": {
      "image/png": "[encoded data removed]",
      "text/plain": [
       "<Figure size 432x288 with 1 Axes>"
      ]
     },
     "metadata": {
      "needs_background": "light"
     },
     "output_type": "display_data"
    }
   ],
   "source": [
    "type_match = dota_data.iloc[:,3]\n",
    "abc = dict(type_match.value_counts())\n",
    "\n",
    "x = np.fromiter(abc.keys(), dtype=int)\n",
    "y = np.fromiter(abc.values(), dtype=int)\n",
    "\n",
    "fig, ax = plt.subplots()\n",
    "\n",
    "ax.bar(x, y, align='center', color='r')\n",
    "\n",
    "ax.set_title('Zastupljenost tipa')\n",
    "ax.set_ylabel('Broj pojavljivanja')\n",
    "ax.set_xlabel('ID tipa')\n",
    "\n",
    "ax.set_xticks(x)\n",
    "ax.set_xticklabels(x)\n",
    "\n",
    "print(\"1: Practice\", \"2: Tournament\", \"3: Tutorial\")\n",
    "print(abc)\n",
    "\n",
    "plt.show()"
   ]
  },
  {
   "cell_type": "markdown",
   "metadata": {},
   "source": [
    "## Provera tipova podataka i postojanje null vrednosti\n",
    "Iz naredne linije možemo videti da je dataset većih dimenzija, pa je to uzeto u obzir prilikom treniranja."
   ]
  },
  {
   "cell_type": "code",
   "execution_count": 6,
   "metadata": {},
   "outputs": [
    {
     "data": {
      "text/plain": [
       "(102944, 117)"
      ]
     },
     "execution_count": 6,
     "metadata": {},
     "output_type": "execute_result"
    }
   ],
   "source": [
    "dota_data.shape"
   ]
  },
  {
   "cell_type": "code",
   "execution_count": 7,
   "metadata": {},
   "outputs": [],
   "source": [
    "#Brisanje duplikata\n",
    "dota_data = dota_data.drop_duplicates()"
   ]
  },
  {
   "cell_type": "markdown",
   "metadata": {},
   "source": [
    "Izvršene su provere za NULL podatke i da li su svi podaci brojevne vrednosti."
   ]
  },
  {
   "cell_type": "code",
   "execution_count": 8,
   "metadata": {
    "scrolled": false
   },
   "outputs": [
    {
     "data": {
      "text/plain": [
       "win       0\n",
       "region    0\n",
       "mode      0\n",
       "type      0\n",
       "0         0\n",
       "         ..\n",
       "108       0\n",
       "109       0\n",
       "110       0\n",
       "111       0\n",
       "112       0\n",
       "Length: 117, dtype: int64"
      ]
     },
     "execution_count": 8,
     "metadata": {},
     "output_type": "execute_result"
    }
   ],
   "source": [
    "#Broj null podataka u svakoj koloni\n",
    "dota_data.isnull().sum()"
   ]
  },
  {
   "cell_type": "code",
   "execution_count": 9,
   "metadata": {},
   "outputs": [
    {
     "data": {
      "text/plain": [
       "win       int64\n",
       "region    int64\n",
       "mode      int64\n",
       "type      int64\n",
       "0         int64\n",
       "          ...  \n",
       "108       int64\n",
       "109       int64\n",
       "110       int64\n",
       "111       int64\n",
       "112       int64\n",
       "Length: 117, dtype: object"
      ]
     },
     "execution_count": 9,
     "metadata": {},
     "output_type": "execute_result"
    }
   ],
   "source": [
    "#provera tipova podataka\n",
    "dota_data.dtypes"
   ]
  },
  {
   "cell_type": "markdown",
   "metadata": {},
   "source": [
    "## Preprocesiranje podataka\n",
    "Bilo je potrebno grupisani podatke u odnosu na region, kako bi se dalo na značaju.\n",
    "Takođe, izbačeni su i tipovi i modovi igre koji se odnose na Tutorial, jer nemaju značaj i predstavljaju trivijalne mečeve."
   ]
  },
  {
   "cell_type": "code",
   "execution_count": 10,
   "metadata": {},
   "outputs": [
    {
     "data": {
      "text/plain": [
       "0    6\n",
       "1    6\n",
       "2    3\n",
       "3    6\n",
       "4    8\n",
       "Name: region, dtype: int64"
      ]
     },
     "execution_count": 10,
     "metadata": {},
     "output_type": "execute_result"
    }
   ],
   "source": [
    "#Grupisanje regiona\n",
    "dota_data.loc[dota_data[\"region\"].isin([111,112,113,114]), \"region\"] = 1 #US West\n",
    "dota_data.loc[dota_data[\"region\"].isin([121,122,123,124]), \"region\"] = 2 #US East\n",
    "dota_data.loc[dota_data[\"region\"].isin([131,132,133,134,135,136,137,138]), \"region\"] = 3 #Europe West\n",
    "dota_data.loc[dota_data[\"region\"].isin([142,143,144,145]), \"region\"] = 4 #South Korea\n",
    "dota_data.loc[dota_data[\"region\"].isin([151,152,153,154,155,156]), \"region\"] = 5 #Southeast Asia\n",
    "dota_data.loc[dota_data[\"region\"].isin([161,163, 221,222,223,224,225,227,231,232]), \"region\"] = 6 #China\n",
    "dota_data.loc[dota_data[\"region\"].isin([171]), \"region\"] = 7 #Australia\n",
    "dota_data.loc[dota_data[\"region\"].isin([181,182,183,184, 185,186,187,188]), \"region\"] = 8 #Russia\n",
    "dota_data.loc[dota_data[\"region\"].isin([191,192]), \"region\"] = 9 #Europe East\n",
    "dota_data.loc[dota_data[\"region\"].isin([200,202,203,204]), \"region\"] = 10 #South America\n",
    "dota_data.loc[dota_data[\"region\"].isin([211,212,213]), \"region\"] = 11 #South Africa\n",
    "dota_data.loc[dota_data[\"region\"].isin([241,242]), \"region\"] = 12 #Chile\n",
    "dota_data.loc[dota_data[\"region\"].isin([251]), \"region\"] = 13 #Peru\n",
    "dota_data.loc[dota_data[\"region\"].isin([261]), \"region\"] = 14 #India\n",
    "dota_data['region'].head(5)"
   ]
  },
  {
   "cell_type": "code",
   "execution_count": 11,
   "metadata": {},
   "outputs": [],
   "source": [
    "#Uklanjanje instanci ciji je tip igre 'Tutorial' ili 'Practice'\n",
    "df_f1 = dota_data[(dota_data['type'] != 3) & (dota_data['type'] != 1)]\n",
    "\n",
    "#Uklanjanje instanci ciji je mod igre 'Tutorial' \n",
    "df_f2 = df_f1[df_f1['mode'] != 10]"
   ]
  },
  {
   "cell_type": "code",
   "execution_count": 12,
   "metadata": {
    "scrolled": true
   },
   "outputs": [
    {
     "data": {
      "text/plain": [
       " 1    33388\n",
       "-1    29884\n",
       "Name: win, dtype: int64"
      ]
     },
     "execution_count": 12,
     "metadata": {},
     "output_type": "execute_result"
    }
   ],
   "source": [
    "df_f2['win'].value_counts()"
   ]
  },
  {
   "cell_type": "markdown",
   "metadata": {},
   "source": [
    "Balansiranje pobeda tima 1 i tima 2 za bolje rezultate."
   ]
  },
  {
   "cell_type": "code",
   "execution_count": 13,
   "metadata": {},
   "outputs": [
    {
     "data": {
      "text/plain": [
       "-1    29884\n",
       " 1    29884\n",
       "Name: win, dtype: int64"
      ]
     },
     "execution_count": 13,
     "metadata": {},
     "output_type": "execute_result"
    }
   ],
   "source": [
    "#balansiranje dataseta\n",
    "g = df_f2.groupby('win')\n",
    "g = pd.DataFrame(g.apply(lambda x: x.sample(g.size().min()).reset_index(drop=True)))\n",
    "g['win'].value_counts()"
   ]
  },
  {
   "cell_type": "markdown",
   "metadata": {},
   "source": [
    "## Predstavljanje preprocesiranih podataka pomoću grafikona"
   ]
  },
  {
   "cell_type": "markdown",
   "metadata": {},
   "source": [
    "Naredni grafikoni pokazuju učestalost korišćenja heroja u zasebnim mečevima"
   ]
  },
  {
   "cell_type": "code",
   "execution_count": 14,
   "metadata": {},
   "outputs": [
    {
     "name": "stdout",
     "output_type": "stream",
     "text": [
      "DescribeResult(nobs=113, minmax=(0, 20679), mean=5289.203539823009, variance=16079401.556415929, skewness=1.5729488508509197, kurtosis=2.4452506007096204)\n"
     ]
    },
    {
     "data": {
      "image/png": "[encoded data removed]",
      "text/plain": [
       "<Figure size 600x200 with 1 Axes>"
      ]
     },
     "metadata": {
      "needs_background": "light"
     },
     "output_type": "display_data"
    },
    {
     "data": {
      "image/png": "[encoded data removed]",
      "text/plain": [
       "<Figure size 600x200 with 1 Axes>"
      ]
     },
     "metadata": {
      "needs_background": "light"
     },
     "output_type": "display_data"
    }
   ],
   "source": [
    "heroes = g.iloc[:,4:]\n",
    "len_matches = len(heroes);\n",
    "num_arr = np.arange(113)\n",
    "\n",
    "heroes_counts=[]\n",
    "pos=[]\n",
    "neg=[]\n",
    "\n",
    "for x in num_arr_str:\n",
    "    hero = dict(heroes[x].value_counts())\n",
    "    if hero[0]!=len_matches:\n",
    "        pos.append(hero[1])\n",
    "        neg.append(hero[-1])\n",
    "    else:\n",
    "        pos.append(0)\n",
    "        neg.append(0)\n",
    "    heroes_counts.append(hero)\n",
    "        \n",
    "sum = np.add(pos, neg)\n",
    "\n",
    "print(stats.describe(sum)) \n",
    "\n",
    "plt.rcParams['figure.figsize'] = [6, 2]\n",
    "plt.rcParams['figure.dpi'] = 100\n",
    "fig, ax = plt.subplots()\n",
    "\n",
    "ax.bar(num_arr, sum, align='center', color='b')\n",
    "ax.set_title('Ukupno pojavljivanje heroja')\n",
    "ax.set_ylabel('Broj pojavljivanja')\n",
    "ax.set_xlabel('ID heroja')\n",
    "plt.show()\n",
    "\n",
    "#prvi zajednicki\n",
    "fig1, ax1 = plt.subplots()\n",
    "ax1.bar(num_arr, pos, align='center', color='r')\n",
    "ax1.bar(num_arr, neg, align='center', color='b')\n",
    "ax1.set_title('Broj pojavljivanja heroja sa oznakama 1 i -1')\n",
    "ax1.set_ylabel('Broj pojavljivanja 1 / -1')\n",
    "ax1.set_xlabel('ID heroja')\n",
    "\n",
    "plt.show()\n",
    "plt.show()"
   ]
  },
  {
   "cell_type": "markdown",
   "metadata": {},
   "source": [
    "Naredni grafikon pokazuje zastupljenost regiona u mečevima"
   ]
  },
  {
   "cell_type": "code",
   "execution_count": 15,
   "metadata": {},
   "outputs": [
    {
     "name": "stdout",
     "output_type": "stream",
     "text": [
      "1: US West 2: US East 3: Europe West 4: South Korea 5: Southeast Asia 6: China 7: Australia 8: Russia 9: Europe East 10: South America 11: South Africa 12: Chile 13: Peru 14: India\n",
      "{5: 26635, 6: 15973, 8: 6463, 3: 3159, 4: 1663, 2: 1495, 1: 1076, 9: 1071, 10: 912, 7: 722, 14: 225, 12: 129, 13: 125, 11: 120}\n"
     ]
    },
    {
     "data": {
      "image/png": "[encoded data removed]",
      "text/plain": [
       "<Figure size 600x200 with 1 Axes>"
      ]
     },
     "metadata": {
      "needs_background": "light"
     },
     "output_type": "display_data"
    }
   ],
   "source": [
    "regi = g.iloc[:,1]\n",
    "abc = dict(regi.value_counts())\n",
    "\n",
    "x = np.fromiter(abc.keys(), dtype=int)\n",
    "y = np.fromiter(abc.values(), dtype=int)\n",
    "\n",
    "fig, ax = plt.subplots()\n",
    "ax.bar(x, y, align='center', color='b')\n",
    "\n",
    "ax.set_title('Zastupljenost regiona')\n",
    "ax.set_ylabel('Broj pojavljivanja')\n",
    "ax.set_xlabel('ID regiona')\n",
    "\n",
    "print(\"1: US West\", \"2: US East\", \"3: Europe West\", \"4: South Korea\", \"5: Southeast Asia\", \"6: China\", \"7: Australia\", \"8: Russia\", \"9: Europe East\", \"10: South America\",\"11: South Africa\",\"12: Chile\",\"13: Peru\",\"14: India\")\n",
    "print(abc)\n",
    "\n",
    "ax.set_xticks(x)\n",
    "ax.set_xticklabels(x)\n",
    "plt.show()"
   ]
  },
  {
   "cell_type": "markdown",
   "metadata": {},
   "source": [
    "Naredni grafikon pokazuje zastupljenost moda igre u mečevima"
   ]
  },
  {
   "cell_type": "code",
   "execution_count": 16,
   "metadata": {},
   "outputs": [
    {
     "name": "stdout",
     "output_type": "stream",
     "text": [
      "1: All Pick 2: Captains Mode 3: Random Draft 4: Single Draft 5: All Random 6: INTRO/DEATH 7: The Diretide 8: Reverse Captains Mode 9: Greevilin\n",
      "{2: 43196, 9: 10559, 8: 3698, 1: 1295, 3: 414, 6: 298, 4: 204, 7: 91, 5: 13}\n"
     ]
    },
    {
     "data": {
      "image/png": "[encoded data removed]",
      "text/plain": [
       "<Figure size 600x200 with 1 Axes>"
      ]
     },
     "metadata": {
      "needs_background": "light"
     },
     "output_type": "display_data"
    }
   ],
   "source": [
    "mode = g.iloc[:,2]\n",
    "abc = dict(mode.value_counts())\n",
    "\n",
    "x = np.fromiter(abc.keys(), dtype=int)\n",
    "y = np.fromiter(abc.values(), dtype=int)\n",
    "\n",
    "fig, ax = plt.subplots()\n",
    "ax.bar(x, y, align='center', color='g')\n",
    "\n",
    "ax.set_title('Zastupljenost moda')\n",
    "ax.set_ylabel('Broj pojavljivanja')\n",
    "ax.set_xlabel('ID moda')\n",
    "\n",
    "ax.set_xticks(x)\n",
    "ax.set_xticklabels(x)\n",
    "\n",
    "print(\"1: All Pick\", \"2: Captains Mode\", \"3: Random Draft\", \"4: Single Draft\", \"5: All Random\", \"6: INTRO/DEATH\", \"7: The Diretide\", \"8: Reverse Captains Mode\", \"9: Greevilin\")\n",
    "print(abc)\n",
    "\n",
    "plt.show()"
   ]
  },
  {
   "cell_type": "markdown",
   "metadata": {},
   "source": [
    "Naredni grafikon pokazuje zastupljenost tipa igre u mečevima"
   ]
  },
  {
   "cell_type": "code",
   "execution_count": 17,
   "metadata": {},
   "outputs": [
    {
     "name": "stdout",
     "output_type": "stream",
     "text": [
      "2: Tournament\n",
      "{2: 59768}\n"
     ]
    },
    {
     "data": {
      "image/png": "[encoded data removed]",
      "text/plain": [
       "<Figure size 600x200 with 1 Axes>"
      ]
     },
     "metadata": {
      "needs_background": "light"
     },
     "output_type": "display_data"
    }
   ],
   "source": [
    "type_match = g.iloc[:,3]\n",
    "abc = dict(type_match.value_counts())\n",
    "\n",
    "x = np.fromiter(abc.keys(), dtype=int)\n",
    "y = np.fromiter(abc.values(), dtype=int)\n",
    "\n",
    "fig, ax = plt.subplots()\n",
    "\n",
    "ax.bar(x, y, align='center', color='r')\n",
    "\n",
    "ax.set_title('Zastupljenost tipa')\n",
    "ax.set_ylabel('Broj pojavljivanja')\n",
    "ax.set_xlabel('ID tipa')\n",
    "\n",
    "ax.set_xticks(x)\n",
    "ax.set_xticklabels(x)\n",
    "\n",
    "print(\"2: Tournament\")\n",
    "print(abc)\n",
    "\n",
    "plt.show()"
   ]
  },
  {
   "cell_type": "markdown",
   "metadata": {},
   "source": [
    "# Razdvajanje feature i target kolona"
   ]
  },
  {
   "cell_type": "code",
   "execution_count": 18,
   "metadata": {},
   "outputs": [],
   "source": [
    "Y = g.iloc[:,0]\n",
    "X = g.iloc[:,1:]"
   ]
  },
  {
   "cell_type": "markdown",
   "metadata": {},
   "source": [
    "## Razdvajanje train i test setova 80:20"
   ]
  },
  {
   "cell_type": "code",
   "execution_count": 19,
   "metadata": {},
   "outputs": [],
   "source": [
    "from sklearn.model_selection import train_test_split\n",
    "#random state = 1, kako bi se koristio int seed za RNG\n",
    "X_train, X_test, Y_train, Y_test = train_test_split(X, Y, test_size=0.2, random_state=0)"
   ]
  },
  {
   "cell_type": "code",
   "execution_count": 20,
   "metadata": {},
   "outputs": [],
   "source": [
    "def draw_conf_matrix(confusion_mat):\n",
    "    plt.rcParams['figure.figsize'] = [3, 2.5]\n",
    "    plt.rcParams['figure.dpi'] = 100\n",
    "    df_conf = pd.DataFrame(confusion_mat, index=['-1', '1'], columns=['-1', '1'])\n",
    "    cmap = sns.cubehelix_palette(light=1, as_cmap=True)\n",
    "    res = sns.heatmap(df_conf, annot=True, vmin=2346.0/2, vmax=3670.0, fmt='.2f', cmap=cmap)\n",
    "    res.invert_yaxis()\n",
    "    res.invert_xaxis()\n",
    "    plt.title('Matrica konfuzije')\n",
    "    plt.show()"
   ]
  },
  {
   "cell_type": "markdown",
   "metadata": {},
   "source": [
    "## Treniranje modela korišćenjem Linear Support Vector klasifikacije"
   ]
  },
  {
   "cell_type": "code",
   "execution_count": 21,
   "metadata": {
    "scrolled": false
   },
   "outputs": [
    {
     "name": "stdout",
     "output_type": "stream",
     "text": [
      "LinearSVC accuracy :  0.5992136523339467\n",
      "Confusion matrix:\n",
      "[[3602 2336]\n",
      " [2455 3561]]\n"
     ]
    },
    {
     "data": {
      "image/png": "[encoded data removed]",
      "text/plain": [
       "<Figure size 300x250 with 2 Axes>"
      ]
     },
     "metadata": {
      "needs_background": "light"
     },
     "output_type": "display_data"
    },
    {
     "name": "stdout",
     "output_type": "stream",
     "text": [
      "Report:\n",
      "              precision    recall  f1-score   support\n",
      "\n",
      "          -1       0.59      0.61      0.60      5938\n",
      "           1       0.60      0.59      0.60      6016\n",
      "\n",
      "    accuracy                           0.60     11954\n",
      "   macro avg       0.60      0.60      0.60     11954\n",
      "weighted avg       0.60      0.60      0.60     11954\n",
      "\n"
     ]
    }
   ],
   "source": [
    "from sklearn.svm import LinearSVC\n",
    "from sklearn.metrics import accuracy_score\n",
    "svc_model = LinearSVC(random_state=0,max_iter = 100000, dual = False, penalty='l2')\n",
    "\n",
    "pred = svc_model.fit(X_train, Y_train).predict(X_test)\n",
    "print(\"LinearSVC accuracy : \",accuracy_score(Y_test, pred, normalize = True))\n",
    "print(\"Confusion matrix:\")\n",
    "confusion_mat=confusion_matrix(Y_test, pred)\n",
    "print(confusion_mat)\n",
    "\n",
    "draw_conf_matrix(confusion_mat)\n",
    "\n",
    "print(\"Report:\")\n",
    "print(classification_report(Y_test, pred))"
   ]
  },
  {
   "cell_type": "markdown",
   "metadata": {},
   "source": [
    "## Treniranje modela korišćenjem logističke regresije"
   ]
  },
  {
   "cell_type": "code",
   "execution_count": 22,
   "metadata": {},
   "outputs": [
    {
     "name": "stdout",
     "output_type": "stream",
     "text": [
      "Accuracy of Logistic regression classifier on training set:  0.6016229556196929\n",
      "Accuracy of Logistic regression classifier on test set:  0.5992973063409738 \n",
      "\n",
      "Confusion matrix:\n",
      "[[3607 2331]\n",
      " [2459 3557]]\n"
     ]
    },
    {
     "data": {
      "image/png": "[encoded data removed]",
      "text/plain": [
       "<Figure size 300x250 with 2 Axes>"
      ]
     },
     "metadata": {
      "needs_background": "light"
     },
     "output_type": "display_data"
    },
    {
     "name": "stdout",
     "output_type": "stream",
     "text": [
      "Report:\n",
      "              precision    recall  f1-score   support\n",
      "\n",
      "          -1       0.59      0.61      0.60      5938\n",
      "           1       0.60      0.59      0.60      6016\n",
      "\n",
      "    accuracy                           0.60     11954\n",
      "   macro avg       0.60      0.60      0.60     11954\n",
      "weighted avg       0.60      0.60      0.60     11954\n",
      "\n"
     ]
    }
   ],
   "source": [
    "from sklearn.linear_model import LogisticRegression\n",
    "logreg = LogisticRegression(max_iter=1000, dual=False)\n",
    "logreg.fit(X_train,Y_train)\n",
    "pred = logreg.predict(X_test)\n",
    "\n",
    "print('Accuracy of Logistic regression classifier on training set: ',logreg.score(X_train, Y_train))\n",
    "print('Accuracy of Logistic regression classifier on test set: ', accuracy_score(Y_test, pred),'\\n')\n",
    "print(\"Confusion matrix:\")\n",
    "confusion_mat=confusion_matrix(Y_test, pred)\n",
    "print(confusion_mat)\n",
    "draw_conf_matrix(confusion_mat)\n",
    "print(\"Report:\")\n",
    "print(classification_report(Y_test, pred))"
   ]
  },
  {
   "cell_type": "markdown",
   "metadata": {},
   "source": [
    "## Treniranje modela korišćenjem Random Forest klasifikatora"
   ]
  },
  {
   "cell_type": "code",
   "execution_count": 23,
   "metadata": {},
   "outputs": [
    {
     "name": "stdout",
     "output_type": "stream",
     "text": [
      "Accuracy of Random forest classifier on test set:  0.5834866990128827\n",
      "Confusion matrix:\n",
      "[[3503 2435]\n",
      " [2544 3472]]\n"
     ]
    },
    {
     "data": {
      "image/png": "[encoded data removed]",
      "text/plain": [
       "<Figure size 300x250 with 2 Axes>"
      ]
     },
     "metadata": {
      "needs_background": "light"
     },
     "output_type": "display_data"
    },
    {
     "name": "stdout",
     "output_type": "stream",
     "text": [
      "Report:\n",
      "              precision    recall  f1-score   support\n",
      "\n",
      "          -1       0.58      0.59      0.58      5938\n",
      "           1       0.59      0.58      0.58      6016\n",
      "\n",
      "    accuracy                           0.58     11954\n",
      "   macro avg       0.58      0.58      0.58     11954\n",
      "weighted avg       0.58      0.58      0.58     11954\n",
      "\n"
     ]
    }
   ],
   "source": [
    "from sklearn.ensemble import RandomForestClassifier\n",
    "clf = RandomForestClassifier(max_depth=100, random_state=0, n_estimators=200, criterion='entropy', min_samples_split=2\n",
    "                            ,n_jobs=-1,bootstrap=True,min_samples_leaf=20)\n",
    "clf.fit(X_train, Y_train)\n",
    "pred = clf.predict(X_test)\n",
    "print('Accuracy of Random forest classifier on test set: ',accuracy_score(Y_test, pred))\n",
    "print(\"Confusion matrix:\")\n",
    "confusion_mat=confusion_matrix(Y_test, pred)\n",
    "print(confusion_mat)\n",
    "\n",
    "draw_conf_matrix(confusion_mat)\n",
    "print(\"Report:\")\n",
    "print(classification_report(Y_test, pred))"
   ]
  },
  {
   "cell_type": "markdown",
   "metadata": {},
   "source": [
    "## Treniranje modela korišćenjem SGD (stochastic gradient descent) klasifikatora"
   ]
  },
  {
   "cell_type": "code",
   "execution_count": 24,
   "metadata": {},
   "outputs": [
    {
     "name": "stdout",
     "output_type": "stream",
     "text": [
      "Accuracy of SGD classifier on test set:  0.5972059561653004\n",
      "Confusion matrix:\n",
      "[[3593 2345]\n",
      " [2470 3546]]\n"
     ]
    },
    {
     "data": {
      "image/png": "[encoded data removed]",
      "text/plain": [
       "<Figure size 300x250 with 2 Axes>"
      ]
     },
     "metadata": {
      "needs_background": "light"
     },
     "output_type": "display_data"
    },
    {
     "name": "stdout",
     "output_type": "stream",
     "text": [
      "Report:\n",
      "              precision    recall  f1-score   support\n",
      "\n",
      "          -1       0.59      0.61      0.60      5938\n",
      "           1       0.60      0.59      0.60      6016\n",
      "\n",
      "    accuracy                           0.60     11954\n",
      "   macro avg       0.60      0.60      0.60     11954\n",
      "weighted avg       0.60      0.60      0.60     11954\n",
      "\n"
     ]
    }
   ],
   "source": [
    "from sklearn.linear_model import SGDClassifier\n",
    "clf = SGDClassifier(loss='log', penalty='l1',fit_intercept=False, learning_rate='adaptive',eta0=1\n",
    "                   ,power_t=0.5, max_iter=1000)\n",
    "clf.fit(X_train, Y_train)\n",
    "pred = clf.predict(X_test)\n",
    "print('Accuracy of SGD classifier on test set: ',accuracy_score(Y_test, pred))\n",
    "print(\"Confusion matrix:\")\n",
    "confusion_mat=confusion_matrix(Y_test, pred)\n",
    "print(confusion_mat)\n",
    "\n",
    "draw_conf_matrix(confusion_mat)\n",
    "print(\"Report:\")\n",
    "print(classification_report(Y_test, pred))"
   ]
  },
  {
   "cell_type": "markdown",
   "metadata": {},
   "source": [
    "# Zaključak:\n",
    "Dati dataset ni u jednom slučaju klasifikacije nema rezultate koji se mogu smatrati odličnim. Ovo možemo pripisati tome da ishod pobede u meču zavisi u najvećem slučaju od ljudskog faktora, od \"skill-a\" igrača, koji ne možemo izmeriti. Svi primenjeni algoritmi imaju preciznost veću od 50%, pa možemo smatrati da je donekle klasifikacija bila uspešna, iako daleko od idealne."
   ]
  }
 ],
 "metadata": {
  "kernelspec": {
   "display_name": "Python 3",
   "language": "python",
   "name": "python3"
  },
  "language_info": {
   "codemirror_mode": {
    "name": "ipython",
    "version": 3
   },
   "file_extension": ".py",
   "mimetype": "text/x-python",
   "name": "python",
   "nbconvert_exporter": "python",
   "pygments_lexer": "ipython3",
   "version": "3.8.3"
  }
 },
 "nbformat": 4,
 "nbformat_minor": 4
}
